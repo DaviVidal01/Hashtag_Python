{
 "cells": [
  {
   "cell_type": "markdown",
   "id": "a7222466",
   "metadata": {},
   "source": [
    "### F-string"
   ]
  },
  {
   "cell_type": "code",
   "execution_count": 1,
   "id": "66c75af4",
   "metadata": {},
   "outputs": [
    {
     "name": "stdout",
     "output_type": "stream",
     "text": [
      "O faturamento foi de 1000 e o lucro de 600\n"
     ]
    }
   ],
   "source": [
    "faturamento = 1000\n",
    "custo = 400\n",
    "\n",
    "lucro = faturamento - custo\n",
    "\n",
    "# com format\n",
    "print(f\"O faturamento foi de {faturamento} e o lucro de {lucro}\".format(lucro,faturamento))\n",
    "\n",
    "# com f-string"
   ]
  },
  {
   "cell_type": "markdown",
   "id": "917d7cc5",
   "metadata": {},
   "source": [
    "### Mudança de tipo de variável"
   ]
  },
  {
   "cell_type": "code",
   "execution_count": 2,
   "id": "3c7c40e7",
   "metadata": {},
   "outputs": [
    {
     "name": "stdout",
     "output_type": "stream",
     "text": [
      "Insira o faturamento1000\n",
      "Insira o custo230\n",
      "770.0\n"
     ]
    }
   ],
   "source": [
    "faturamento = int(input(\"Insira o faturamento\"))\n",
    "custo = float(input(\"Insira o custo\"))\n",
    "\n",
    "lucro = faturamento - custo\n",
    "\n",
    "print(lucro)\n",
    "\n",
    "# str -> muda para string\n",
    "# int -> muda para inteiro\n",
    "# float -> muda para float"
   ]
  },
  {
   "cell_type": "code",
   "execution_count": null,
   "id": "8f55e669",
   "metadata": {},
   "outputs": [],
   "source": []
  }
 ],
 "metadata": {
  "kernelspec": {
   "display_name": "Python 3 (ipykernel)",
   "language": "python",
   "name": "python3"
  },
  "language_info": {
   "codemirror_mode": {
    "name": "ipython",
    "version": 3
   },
   "file_extension": ".py",
   "mimetype": "text/x-python",
   "name": "python",
   "nbconvert_exporter": "python",
   "pygments_lexer": "ipython3",
   "version": "3.10.9"
  }
 },
 "nbformat": 4,
 "nbformat_minor": 5
}
