{
 "cells": [
  {
   "cell_type": "markdown",
   "id": "bb0f9514",
   "metadata": {
    "id": "bb0f9514"
   },
   "source": [
    "# Lista de Estrutura Sequencial"
   ]
  },
  {
   "cell_type": "markdown",
   "id": "4e7a8c30",
   "metadata": {
    "id": "4e7a8c30"
   },
   "source": [
    "#### 1. Faça um Programa que mostre a mensagem (print) \"Alo mundo\" na tela."
   ]
  },
  {
   "cell_type": "code",
   "execution_count": 2,
   "id": "883bfe85",
   "metadata": {
    "id": "883bfe85"
   },
   "outputs": [
    {
     "name": "stdout",
     "output_type": "stream",
     "text": [
      "Alo Mundo\n"
     ]
    }
   ],
   "source": [
    "print(\"Alo Mundo\")"
   ]
  },
  {
   "cell_type": "markdown",
   "id": "71d6d6a2",
   "metadata": {
    "id": "71d6d6a2"
   },
   "source": [
    "#### 2. Faça um Programa que peça um número (input) e então mostre a mensagem: \"O número informado foi [número].\""
   ]
  },
  {
   "cell_type": "code",
   "execution_count": 1,
   "id": "30cfffcf",
   "metadata": {
    "id": "30cfffcf"
   },
   "outputs": [
    {
     "name": "stdout",
     "output_type": "stream",
     "text": [
      "Digite um número:20\n",
      "O número informado foi 20\n"
     ]
    }
   ],
   "source": [
    "n = input(\"Digite um número:\")\n",
    "print(\"O número informado foi \" + n)"
   ]
  },
  {
   "cell_type": "markdown",
   "id": "c5e43160",
   "metadata": {
    "id": "c5e43160"
   },
   "source": [
    "#### 3. Faça um Programa que peça dois números e imprima a soma."
   ]
  },
  {
   "cell_type": "code",
   "execution_count": 3,
   "id": "b0e79590",
   "metadata": {
    "id": "b0e79590"
   },
   "outputs": [
    {
     "name": "stdout",
     "output_type": "stream",
     "text": [
      "Digite um Número:120\n",
      "Digite um Número:120\n",
      "240\n"
     ]
    }
   ],
   "source": [
    "soma = 0\n",
    "n = int(input(\"Digite um Número:\"))\n",
    "soma = soma + n\n",
    "n = int(input(\"Digite um Número:\"))\n",
    "soma = soma + n\n",
    "print(soma)"
   ]
  },
  {
   "cell_type": "markdown",
   "id": "17826987",
   "metadata": {
    "id": "17826987"
   },
   "source": [
    "#### 4. Faça um Programa que peça as 4 notas bimestrais de um aluno e mostre a média de todas as notas."
   ]
  },
  {
   "cell_type": "code",
   "execution_count": 4,
   "id": "23b66762",
   "metadata": {
    "id": "23b66762"
   },
   "outputs": [
    {
     "name": "stdout",
     "output_type": "stream",
     "text": [
      "Digite a 1º Nota Bimestral:20\n",
      "Digite a 2º Nota Bimestral:20\n",
      "Digite a 3º Nota Bimestral:20\n",
      "Digite a 4º Nota Bimestral:20\n",
      "A Média: 20.0\n"
     ]
    }
   ],
   "source": [
    "b = 0\n",
    "soma = 0\n",
    "b = int(input(\"Digite a 1º Nota Bimestral:\"))\n",
    "soma = soma + b\n",
    "b = int(input(\"Digite a 2º Nota Bimestral:\"))\n",
    "soma = soma + b\n",
    "b = int(input(\"Digite a 3º Nota Bimestral:\"))\n",
    "soma = soma + b\n",
    "b = int(input(\"Digite a 4º Nota Bimestral:\"))\n",
    "soma = soma + b\n",
    "\n",
    "print(\"A Média: \" + str(soma / 4))"
   ]
  },
  {
   "cell_type": "markdown",
   "id": "62d461c5",
   "metadata": {
    "id": "62d461c5"
   },
   "source": [
    "#### 5. Faça um Programa que converta metros para centímetros. Você pode pedir o comprimento em metros para o usuário (input)."
   ]
  },
  {
   "cell_type": "code",
   "execution_count": 1,
   "id": "d642f1ba",
   "metadata": {
    "id": "d642f1ba"
   },
   "outputs": [
    {
     "name": "stdout",
     "output_type": "stream",
     "text": [
      "Digite em Metros:1\n",
      "1.0m deu 100.0cm\n"
     ]
    }
   ],
   "source": [
    "m = float(input(\"Digite em Metros:\"))\n",
    "cm = m * 100\n",
    "print(\"{}m deu {}cm\".format(m,cm))"
   ]
  },
  {
   "cell_type": "markdown",
   "id": "f1311697",
   "metadata": {
    "id": "f1311697"
   },
   "source": [
    "#### 6. Faça um Programa que calcule a área de uma sala de um apartamento. Para isso, o seu programa precisa pedir a largura da sala, o comprimento da sala e imprimir a área em m² da sala."
   ]
  },
  {
   "cell_type": "code",
   "execution_count": 2,
   "id": "612ea24b",
   "metadata": {
    "id": "612ea24b"
   },
   "outputs": [
    {
     "name": "stdout",
     "output_type": "stream",
     "text": [
      "Qual a Largura?10\n",
      "Qual o Comprimento?5\n",
      "A sala possui 50.0m²\n"
     ]
    }
   ],
   "source": [
    "l = float(input(\"Qual a Largura?\"))\n",
    "c = float(input(\"Qual o Comprimento?\"))\n",
    "print(\"A sala possui {}m²\".format(l * c))"
   ]
  },
  {
   "cell_type": "markdown",
   "id": "2a285929",
   "metadata": {
    "id": "2a285929"
   },
   "source": [
    "#### 7. Faça um Programa que pergunte quanto você ganha por hora e o número de horas trabalhadas no mês. Calcule e mostre o total do seu salário no referido mês."
   ]
  },
  {
   "cell_type": "code",
   "execution_count": 3,
   "id": "359e2232",
   "metadata": {
    "id": "359e2232"
   },
   "outputs": [
    {
     "name": "stdout",
     "output_type": "stream",
     "text": [
      "Quantos você ganha por hora?5\n",
      "Quantas horas trabalhadas no mês?30\n",
      "Você recebeu R$150.0 reais nesse mês\n"
     ]
    }
   ],
   "source": [
    "r = float(input(\"Quantos você ganha por hora?\"))\n",
    "h = float(input(\"Quantas horas trabalhadas no mês?\"))\n",
    "print(\"Você recebeu R${} reais nesse mês\".format(r * h))"
   ]
  },
  {
   "cell_type": "markdown",
   "id": "7e2d4615",
   "metadata": {
    "id": "7e2d4615"
   },
   "source": [
    "#### 8. Vamos criar um conversor de temperatura. Faça um Programa que peça a temperatura em graus Fahrenheit, transforme e mostre a temperatura em graus Celsius.\n",
    "$C = \\frac{5}{9}(F-32)$"
   ]
  },
  {
   "cell_type": "code",
   "execution_count": 4,
   "id": "82daf9fd",
   "metadata": {
    "id": "82daf9fd"
   },
   "outputs": [
    {
     "name": "stdout",
     "output_type": "stream",
     "text": [
      "Digite Fahrenheit:130\n",
      "130.0Fº para 54.44444444444444Cº\n"
     ]
    }
   ],
   "source": [
    "f = float(input(\"Digite Fahrenheit:\"))\n",
    "c = (f-32)/1.8\n",
    "\n",
    "print(\"{}Fº para {}Cº\".format(f,c))"
   ]
  },
  {
   "cell_type": "markdown",
   "id": "20708b1c",
   "metadata": {
    "id": "20708b1c"
   },
   "source": [
    "#### 9. Faça um Programa que peça a temperatura em graus Celsius, transforme e mostre em graus Fahrenheit.\n",
    "$F = \\frac{9}{5}C + 32$"
   ]
  },
  {
   "cell_type": "code",
   "execution_count": 5,
   "id": "c73cfb38",
   "metadata": {
    "id": "c73cfb38"
   },
   "outputs": [
    {
     "name": "stdout",
     "output_type": "stream",
     "text": [
      "Digite Celsius:54.4444444444444\n",
      "54.4444444444444Cº para 155.59999999999994Fº\n"
     ]
    }
   ],
   "source": [
    "c = float(input(\"Digite Celsius:\"))\n",
    "f = (c + 32) * 1.8\n",
    "\n",
    "print(\"{}Cº para {}Fº\".format(c,f))"
   ]
  },
  {
   "cell_type": "markdown",
   "id": "b263a9dc",
   "metadata": {
    "id": "b263a9dc"
   },
   "source": [
    "#### 10. Tendo como dados de entrada a altura (h) de uma pessoa, construa um algoritmo que calcule seu peso ideal, usando a seguinte fórmula:\n",
    "$P = 72,7h - 58$\n",
    "\n",
    "Lembrando que \"algoritmo\" nada mais é do que um programa, como todos os outros que você vem fazendo"
   ]
  },
  {
   "cell_type": "code",
   "execution_count": 7,
   "id": "9a9b8dca",
   "metadata": {
    "id": "9a9b8dca"
   },
   "outputs": [
    {
     "name": "stdout",
     "output_type": "stream",
     "text": [
      "Digite sua altura:1.80\n",
      "Sua altura ideal: 72.86000000000001\n"
     ]
    }
   ],
   "source": [
    "h = float(input(\"Digite sua altura:\"))\n",
    "p = 72.7*h - 58\n",
    "\n",
    "print(\"Sua altura ideal: \" + str(p))"
   ]
  },
  {
   "cell_type": "markdown",
   "id": "13bb40d7",
   "metadata": {
    "id": "13bb40d7"
   },
   "source": [
    "#### 11. Tendo como dado de entrada a altura (h) de uma pessoa, construa um algoritmo que calcule seu peso ideal, utilizando as seguintes fórmulas:\n",
    "##### a. Para homens: $P = 72,7h - 58$\n",
    "##### b. Para mulheres: $P = 62,1h - 44,7$"
   ]
  },
  {
   "cell_type": "code",
   "execution_count": 10,
   "id": "bf82dc8c",
   "metadata": {
    "id": "bf82dc8c"
   },
   "outputs": [
    {
     "name": "stdout",
     "output_type": "stream",
     "text": [
      "Digite sua altura:1.80\n",
      "Sua altura ideal: \n",
      " Homem: 72.86000000000001 \n",
      " Mulher: 67.08\n"
     ]
    }
   ],
   "source": [
    "h = float(input(\"Digite sua altura:\"))\n",
    "ph = 72.7*h - 58\n",
    "pm = 62.1*h - 44.7\n",
    "\n",
    "print(\"Sua altura ideal: \\n Homem: {} \\n Mulher: {}\" .format(ph,pm))"
   ]
  },
  {
   "cell_type": "markdown",
   "id": "f208ef89",
   "metadata": {
    "id": "f208ef89"
   },
   "source": [
    "#### 12. Faça um Programa que pergunte quanto você ganha por hora e o número de horas trabalhadas no mês."
   ]
  },
  {
   "cell_type": "code",
   "execution_count": 12,
   "id": "2d5b23e0",
   "metadata": {
    "id": "2d5b23e0"
   },
   "outputs": [
    {
     "name": "stdout",
     "output_type": "stream",
     "text": [
      "Quantos você ganha por hora?5\n",
      "Quantas horas trabalhadas no mês?40\n"
     ]
    }
   ],
   "source": [
    "r = float(input(\"Quantos você ganha por hora?\"))\n",
    "h = float(input(\"Quantas horas trabalhadas no mês?\"))\n"
   ]
  },
  {
   "cell_type": "markdown",
   "id": "607dee3c",
   "metadata": {
    "id": "607dee3c"
   },
   "source": [
    "#####  Calcule o salário bruto (horas * salario por hora)"
   ]
  },
  {
   "cell_type": "code",
   "execution_count": 25,
   "id": "7f80ccbb",
   "metadata": {
    "id": "7f80ccbb"
   },
   "outputs": [],
   "source": [
    "sb= r * h"
   ]
  },
  {
   "cell_type": "markdown",
   "id": "2ed93cb0",
   "metadata": {
    "id": "2ed93cb0"
   },
   "source": [
    "##### Calcule o desconto do IR (11% do salário bruto)"
   ]
  },
  {
   "cell_type": "code",
   "execution_count": 26,
   "id": "3363e22f",
   "metadata": {
    "id": "3363e22f"
   },
   "outputs": [],
   "source": [
    "ir  = sb*(11/100)\n"
   ]
  },
  {
   "cell_type": "markdown",
   "id": "0994b2c0",
   "metadata": {
    "id": "0994b2c0"
   },
   "source": [
    "##### Calcule o desconto do INSS (8% do salário bruto)"
   ]
  },
  {
   "cell_type": "code",
   "execution_count": 27,
   "id": "748c6088",
   "metadata": {
    "id": "748c6088"
   },
   "outputs": [],
   "source": [
    "inss = sb*(8/100)\n"
   ]
  },
  {
   "cell_type": "markdown",
   "id": "06e8dae4",
   "metadata": {
    "id": "06e8dae4"
   },
   "source": [
    "##### Calcule o desconto do sindicato (5% do salário bruto)"
   ]
  },
  {
   "cell_type": "code",
   "execution_count": 28,
   "id": "21b95b15",
   "metadata": {
    "id": "21b95b15",
    "scrolled": true
   },
   "outputs": [],
   "source": [
    "sin = sb*(5/100)\n"
   ]
  },
  {
   "cell_type": "markdown",
   "id": "bb14ce36",
   "metadata": {
    "id": "bb14ce36"
   },
   "source": [
    "##### Calcule o salário líquido (salário bruto - descontos)"
   ]
  },
  {
   "cell_type": "code",
   "execution_count": 29,
   "id": "56317086",
   "metadata": {
    "id": "56317086"
   },
   "outputs": [
    {
     "name": "stdout",
     "output_type": "stream",
     "text": [
      "Seu salário bruto ficou em R$152.0\n"
     ]
    }
   ],
   "source": [
    "print(\"Seu salário bruto ficou em R${}\".format(sb - sin - inss - ir ))"
   ]
  },
  {
   "cell_type": "markdown",
   "id": "cfbfcc87",
   "metadata": {
    "id": "cfbfcc87"
   },
   "source": [
    "#### 13. Faça um programa para uma loja de tintas. O programa deverá pedir o tamanho em metros quadrados da área a ser pintada. Considere que a cobertura da tinta é de 1 litro para cada 3 metros quadrados e que a tinta é vendida em latas de 18 litros, que custam R\\$ 80,00. Informe ao usuário a quantidades de latas de tinta a serem compradas e o preço total. (para simplificação nesse momento, não se preocupe em arredondar a quantidade de latas a serem compradas - vamos trabalhar isso em breve)"
   ]
  },
  {
   "cell_type": "code",
   "execution_count": 4,
   "id": "fb6a083b",
   "metadata": {
    "id": "fb6a083b"
   },
   "outputs": [
    {
     "name": "stdout",
     "output_type": "stream",
     "text": [
      "Qual o tamanho em M²?54\n",
      "A quantidade de latas: 1.0\n",
      "O preço: 80.0\n"
     ]
    }
   ],
   "source": [
    "m = float(input(\"Qual o tamanho em M²?\"))\n",
    "litros = m / 3\n",
    "lata = litros / 18\n",
    "preco = lata * 80\n",
    "\n",
    "print(\"A quantidade de latas: {}\\nO preço: {}\".format(lata, preco))\n"
   ]
  },
  {
   "cell_type": "markdown",
   "id": "d6503c92",
   "metadata": {
    "id": "d6503c92"
   },
   "source": [
    "#### 14. Faça um programa que peça o tamanho de um arquivo para download (em MB) e a velocidade de um link de Internet (em Mbps), calcule e informe o tempo aproximado de download do arquivo usando este link (em minutos).\n",
    "\n",
    "Detalhe: MB significa megabyte, Mb (com b minúsculo) significa megabit. Um megabit é 1/8 de um megabyte. "
   ]
  },
  {
   "cell_type": "code",
   "execution_count": 5,
   "id": "0563aa62",
   "metadata": {
    "id": "0563aa62"
   },
   "outputs": [
    {
     "name": "stdout",
     "output_type": "stream",
     "text": [
      "Qual o Tamanho do arquivo MB:15\n",
      "Qual a velocidade do Mbps:10\n",
      "Termina em aproximadamente: 12.0\n"
     ]
    }
   ],
   "source": [
    "mb = float(input(\"Qual o Tamanho do arquivo MB:\"))\n",
    "mbps = float(input(\"Qual a velocidade do Mbps:\"))\n",
    "print(\"Termina em aproximadamente: \" + str(mb / (mbps/8)))"
   ]
  },
  {
   "cell_type": "code",
   "execution_count": null,
   "id": "deef31bb",
   "metadata": {},
   "outputs": [],
   "source": []
  }
 ],
 "metadata": {
  "colab": {
   "provenance": []
  },
  "kernelspec": {
   "display_name": "Python 3 (ipykernel)",
   "language": "python",
   "name": "python3"
  },
  "language_info": {
   "codemirror_mode": {
    "name": "ipython",
    "version": 3
   },
   "file_extension": ".py",
   "mimetype": "text/x-python",
   "name": "python",
   "nbconvert_exporter": "python",
   "pygments_lexer": "ipython3",
   "version": "3.10.9"
  }
 },
 "nbformat": 4,
 "nbformat_minor": 5
}
