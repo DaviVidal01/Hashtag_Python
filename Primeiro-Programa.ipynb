{
 "cells": [
  {
   "cell_type": "markdown",
   "id": "3550b978",
   "metadata": {},
   "source": [
    "- Meu primeiro programa em Python\n",
    "\n",
    "Testando Operações Matemáticas:"
   ]
  },
  {
   "cell_type": "code",
   "execution_count": 3,
   "id": "6f1b1ac1",
   "metadata": {},
   "outputs": [
    {
     "name": "stdout",
     "output_type": "stream",
     "text": [
      "Olá Mundo\n"
     ]
    }
   ],
   "source": [
    "print('Olá Mundo')"
   ]
  },
  {
   "cell_type": "code",
   "execution_count": 6,
   "id": "d52ea08a",
   "metadata": {},
   "outputs": [
    {
     "name": "stdout",
     "output_type": "stream",
     "text": [
      "2\n",
      "1\n",
      "4\n",
      "2.0\n"
     ]
    }
   ],
   "source": [
    "print(1 + 1)\n",
    "print(2 - 1)\n",
    "print(2 * 2)\n",
    "print(4 / 2)"
   ]
  },
  {
   "cell_type": "code",
   "execution_count": 7,
   "id": "c9389199",
   "metadata": {},
   "outputs": [
    {
     "ename": "ZeroDivisionError",
     "evalue": "division by zero",
     "output_type": "error",
     "traceback": [
      "\u001b[1;31m---------------------------------------------------------------------------\u001b[0m",
      "\u001b[1;31mZeroDivisionError\u001b[0m                         Traceback (most recent call last)",
      "Cell \u001b[1;32mIn[7], line 1\u001b[0m\n\u001b[1;32m----> 1\u001b[0m \u001b[38;5;28mprint\u001b[39m(\u001b[38;5;241;43m2\u001b[39;49m\u001b[43m \u001b[49m\u001b[38;5;241;43m/\u001b[39;49m\u001b[43m \u001b[49m\u001b[38;5;241;43m0\u001b[39;49m)\n",
      "\u001b[1;31mZeroDivisionError\u001b[0m: division by zero"
     ]
    }
   ],
   "source": [
    "print(2 / 0)"
   ]
  },
  {
   "cell_type": "code",
   "execution_count": 8,
   "id": "bfba7e4b",
   "metadata": {},
   "outputs": [
    {
     "name": "stdout",
     "output_type": "stream",
     "text": [
      "1\n"
     ]
    }
   ],
   "source": [
    "print(7 % 3)"
   ]
  },
  {
   "cell_type": "code",
   "execution_count": 9,
   "id": "c06923d2",
   "metadata": {},
   "outputs": [
    {
     "name": "stdout",
     "output_type": "stream",
     "text": [
      "11\n"
     ]
    }
   ],
   "source": [
    "print(1 + 2 * 5)"
   ]
  },
  {
   "cell_type": "code",
   "execution_count": 10,
   "id": "749bb2c9",
   "metadata": {},
   "outputs": [
    {
     "name": "stdout",
     "output_type": "stream",
     "text": [
      "15\n"
     ]
    }
   ],
   "source": [
    "print((1+2)*5)"
   ]
  },
  {
   "cell_type": "markdown",
   "id": "8ed33568",
   "metadata": {},
   "source": [
    "Operações de Texto (String):"
   ]
  },
  {
   "cell_type": "code",
   "execution_count": 11,
   "id": "1e540048",
   "metadata": {},
   "outputs": [
    {
     "name": "stdout",
     "output_type": "stream",
     "text": [
      "Meu nome é Davi\n"
     ]
    }
   ],
   "source": [
    "print(\"Meu nome é Davi\")"
   ]
  },
  {
   "cell_type": "code",
   "execution_count": 14,
   "id": "1ea35e01",
   "metadata": {},
   "outputs": [
    {
     "name": "stdout",
     "output_type": "stream",
     "text": [
      "Meu nome é Davi Vidal\n"
     ]
    }
   ],
   "source": [
    "print(\"Meu nome é Davi \" + \"Vidal\")"
   ]
  },
  {
   "cell_type": "code",
   "execution_count": 13,
   "id": "94a88c59",
   "metadata": {},
   "outputs": [
    {
     "name": "stdout",
     "output_type": "stream",
     "text": [
      "False\n"
     ]
    }
   ],
   "source": [
    "print(\"Meu nome é Davi\" in \"Vidal\" )"
   ]
  },
  {
   "cell_type": "code",
   "execution_count": 15,
   "id": "90115b07",
   "metadata": {},
   "outputs": [
    {
     "name": "stdout",
     "output_type": "stream",
     "text": [
      "False\n"
     ]
    }
   ],
   "source": [
    "print(\"Meu nome é Davi\" in \"Usuário: Davi Vidal\")"
   ]
  },
  {
   "cell_type": "code",
   "execution_count": 16,
   "id": "ad644d35",
   "metadata": {},
   "outputs": [
    {
     "name": "stdout",
     "output_type": "stream",
     "text": [
      "True\n"
     ]
    }
   ],
   "source": [
    "print(\"Davi\" in \"Usuário: Davi Vidal\")"
   ]
  },
  {
   "cell_type": "code",
   "execution_count": 17,
   "id": "1897ea0b",
   "metadata": {},
   "outputs": [
    {
     "name": "stdout",
     "output_type": "stream",
     "text": [
      "True\n"
     ]
    }
   ],
   "source": [
    "print(\"D\" in \"Davi\")"
   ]
  },
  {
   "cell_type": "code",
   "execution_count": 18,
   "id": "cf0e6897",
   "metadata": {},
   "outputs": [
    {
     "name": "stdout",
     "output_type": "stream",
     "text": [
      "False\n"
     ]
    }
   ],
   "source": [
    "print(\"d\" in \"Davi\")"
   ]
  },
  {
   "cell_type": "code",
   "execution_count": null,
   "id": "0ed9b6dd",
   "metadata": {},
   "outputs": [],
   "source": []
  }
 ],
 "metadata": {
  "kernelspec": {
   "display_name": "Python 3 (ipykernel)",
   "language": "python",
   "name": "python3"
  },
  "language_info": {
   "codemirror_mode": {
    "name": "ipython",
    "version": 3
   },
   "file_extension": ".py",
   "mimetype": "text/x-python",
   "name": "python",
   "nbconvert_exporter": "python",
   "pygments_lexer": "ipython3",
   "version": "3.10.9"
  }
 },
 "nbformat": 4,
 "nbformat_minor": 5
}
