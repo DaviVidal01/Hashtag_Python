{
 "cells": [
  {
   "cell_type": "markdown",
   "metadata": {},
   "source": [
    "# Exercícios"
   ]
  },
  {
   "cell_type": "markdown",
   "metadata": {},
   "source": [
    "## 1. Criando um mini sistema de controle de estoque\n",
    "\n",
    "- Crie um sistema para ser usado pelo time de controle de estoque de um centro de distribuição.\n",
    "- Imagine que ao fim de todo dia, o time conta quantas unidades de produto existem no estoque. Se tivermos um estoque abaixo do estoque permitido para aquela categoria do produto, o time deve ser avisado (print) para fazer um novo pedido daquele produto.\n",
    "- Cada categoria de produto tem um estoque mínimo diferente, segundo a regra abaixo:\n",
    "\n",
    "- alimentos -> Estoque mínimo: 50\n",
    "- bebidas -> Estoque mínimo: 75\n",
    "- limpeza -> Estoque mínimo: 30\n",
    "\n",
    "Para isso vamos criar um programa que pede 3 inputs do usuário: nome do produto, categoria e quantidade atual em estoque.\n",
    "\n",
    "Se o produto tiver abaixo do estoque mínimo da categoria dele, o programa deve printar a mensagem \"Solicitar {produto} à equipe de compras, temos apenas {unidades} em estoque\"\n",
    "\n",
    "Exemplo: Se o usuário preenche os inputs com: bebidas, dolly, 90, o programa não deve exibir nenhuma mensagem.<br>\n",
    "Agora, se o usuário preenche os inputs com: bebidas, guaraná, 60, o programa deve exibir a mensagem \"Solicitar guaraná à equipe de compras, temos apenas 60 unidades em estoque.\n",
    "\n",
    "Obs: lembre de usar o int() para transformar o número inserido pelo usuário no input de string para int.<br>\n",
    "Obs2: Caso o usuário não preencha alguma das 3 informações, o programa deve exibir uma mensagem para avisá-lo de preencher corretamente."
   ]
  },
  {
   "cell_type": "code",
   "execution_count": 10,
   "metadata": {},
   "outputs": [
    {
     "name": "stdout",
     "output_type": "stream",
     "text": [
      "Quantidade de Produtos no Estoque: 200\n",
      "Nome da Categoria do Produto: alimentos\n",
      "Nome do Produto: Bbeba\n"
     ]
    }
   ],
   "source": [
    "#seu código aqui\n",
    "\n",
    "qnt_prod = input(\"Quantidade de Produtos no Estoque: \")\n",
    "categoria = input(\"Nome da Categoria do Produto: \")\n",
    "produto = input(\"Nome do Produto: \")\n",
    "\n",
    "if qnt_prod and categoria and produto:\n",
    "    qnt_prod = int(qnt_prod)\n",
    "    if categoria == 'alimentos':\n",
    "        if qnt_prod < 50:\n",
    "            print(\"Solicitar {} à equipe de compras, temos apenas {} unidades em estoque\".format(produto,qnt_prod))\n",
    "    elif categoria == 'bebidas':\n",
    "        if qnt_prod < 75:\n",
    "            print(\"Solicitar {} à equipe de compras, temos apenas {} unidades em estoque\".format(produto,qnt_prod))\n",
    "    elif categoria == 'limpeza':\n",
    "        if qnt_prod < 30:\n",
    "            print(\"Solicitar {} à equipe de compras, temos apenas {} unidades em estoque\".format(produto,qnt_prod))\n",
    "    else:\n",
    "        print(\"Digite a categoria Corretamente!\")\n",
    "else:\n",
    "    print(\"Preencha as informações Corretamente!\")"
   ]
  },
  {
   "cell_type": "code",
   "execution_count": null,
   "metadata": {},
   "outputs": [],
   "source": []
  }
 ],
 "metadata": {
  "kernelspec": {
   "display_name": "Python 3 (ipykernel)",
   "language": "python",
   "name": "python3"
  },
  "language_info": {
   "codemirror_mode": {
    "name": "ipython",
    "version": 3
   },
   "file_extension": ".py",
   "mimetype": "text/x-python",
   "name": "python",
   "nbconvert_exporter": "python",
   "pygments_lexer": "ipython3",
   "version": "3.10.9"
  }
 },
 "nbformat": 4,
 "nbformat_minor": 4
}
