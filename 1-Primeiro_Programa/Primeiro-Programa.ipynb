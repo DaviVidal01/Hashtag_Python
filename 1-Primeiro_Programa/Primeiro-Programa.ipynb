{
 "cells": [
  {
   "cell_type": "markdown",
   "id": "192247b6",
   "metadata": {},
   "source": [
    "- Meu primeiro programa em Python\n",
    "\n",
    "Testando Operações Matemáticas:"
   ]
  },
  {
   "cell_type": "code",
   "execution_count": 3,
   "id": "dd652f06",
   "metadata": {},
   "outputs": [
    {
     "name": "stdout",
     "output_type": "stream",
     "text": [
      "Olá Mundo\n"
     ]
    }
   ],
   "source": [
    "print('Olá Mundo')"
   ]
  },
  {
   "cell_type": "code",
   "execution_count": 6,
   "id": "1cdf88f4",
   "metadata": {},
   "outputs": [
    {
     "name": "stdout",
     "output_type": "stream",
     "text": [
      "2\n",
      "1\n",
      "4\n",
      "2.0\n"
     ]
    }
   ],
   "source": [
    "print(1 + 1)\n",
    "print(2 - 1)\n",
    "print(2 * 2)\n",
    "print(4 / 2)"
   ]
  },
  {
   "cell_type": "code",
   "execution_count": 7,
   "id": "1e0efd08",
   "metadata": {},
   "outputs": [
    {
     "ename": "ZeroDivisionError",
     "evalue": "division by zero",
     "output_type": "error",
     "traceback": [
      "\u001b[1;31m---------------------------------------------------------------------------\u001b[0m",
      "\u001b[1;31mZeroDivisionError\u001b[0m                         Traceback (most recent call last)",
      "Cell \u001b[1;32mIn[7], line 1\u001b[0m\n\u001b[1;32m----> 1\u001b[0m \u001b[38;5;28mprint\u001b[39m(\u001b[38;5;241;43m2\u001b[39;49m\u001b[43m \u001b[49m\u001b[38;5;241;43m/\u001b[39;49m\u001b[43m \u001b[49m\u001b[38;5;241;43m0\u001b[39;49m)\n",
      "\u001b[1;31mZeroDivisionError\u001b[0m: division by zero"
     ]
    }
   ],
   "source": [
    "print(2 / 0)"
   ]
  },
  {
   "cell_type": "code",
   "execution_count": 8,
   "id": "c965774e",
   "metadata": {},
   "outputs": [
    {
     "name": "stdout",
     "output_type": "stream",
     "text": [
      "1\n"
     ]
    }
   ],
   "source": [
    "print(7 % 3)"
   ]
  },
  {
   "cell_type": "code",
   "execution_count": 9,
   "id": "39342fbb",
   "metadata": {},
   "outputs": [
    {
     "name": "stdout",
     "output_type": "stream",
     "text": [
      "11\n"
     ]
    }
   ],
   "source": [
    "print(1 + 2 * 5)"
   ]
  },
  {
   "cell_type": "code",
   "execution_count": 10,
   "id": "acd8e0be",
   "metadata": {},
   "outputs": [
    {
     "name": "stdout",
     "output_type": "stream",
     "text": [
      "15\n"
     ]
    }
   ],
   "source": [
    "print((1+2)*5)"
   ]
  },
  {
   "cell_type": "markdown",
   "id": "88058af1",
   "metadata": {},
   "source": [
    "Testando Operações String (Texto):"
   ]
  },
  {
   "cell_type": "code",
   "execution_count": 11,
   "id": "aad0a437",
   "metadata": {},
   "outputs": [
    {
     "name": "stdout",
     "output_type": "stream",
     "text": [
      "Meu nome é Davi\n"
     ]
    }
   ],
   "source": [
    "print(\"Meu nome é Davi\")"
   ]
  },
  {
   "cell_type": "code",
   "execution_count": 14,
   "id": "c7b8d7ca",
   "metadata": {},
   "outputs": [
    {
     "name": "stdout",
     "output_type": "stream",
     "text": [
      "Meu nome é Davi Vidal\n"
     ]
    }
   ],
   "source": [
    "print(\"Meu nome é Davi \" + \"Vidal\")"
   ]
  },
  {
   "cell_type": "code",
   "execution_count": 13,
   "id": "8c3df3af",
   "metadata": {},
   "outputs": [
    {
     "name": "stdout",
     "output_type": "stream",
     "text": [
      "False\n"
     ]
    }
   ],
   "source": [
    "print(\"Meu nome é Davi\" in \"Vidal\" )"
   ]
  },
  {
   "cell_type": "code",
   "execution_count": 15,
   "id": "8f5cbceb",
   "metadata": {},
   "outputs": [
    {
     "name": "stdout",
     "output_type": "stream",
     "text": [
      "False\n"
     ]
    }
   ],
   "source": [
    "print(\"Meu nome é Davi\" in \"Usuário: Davi Vidal\")"
   ]
  },
  {
   "cell_type": "code",
   "execution_count": 16,
   "id": "006f1cff",
   "metadata": {},
   "outputs": [
    {
     "name": "stdout",
     "output_type": "stream",
     "text": [
      "True\n"
     ]
    }
   ],
   "source": [
    "print(\"Davi\" in \"Usuário: Davi Vidal\")"
   ]
  },
  {
   "cell_type": "code",
   "execution_count": 17,
   "id": "05719fd7",
   "metadata": {},
   "outputs": [
    {
     "name": "stdout",
     "output_type": "stream",
     "text": [
      "True\n"
     ]
    }
   ],
   "source": [
    "print(\"D\" in \"Davi\")"
   ]
  },
  {
   "cell_type": "code",
   "execution_count": 18,
   "id": "b562b840",
   "metadata": {},
   "outputs": [
    {
     "name": "stdout",
     "output_type": "stream",
     "text": [
      "False\n"
     ]
    }
   ],
   "source": [
    "print(\"d\" in \"Davi\")"
   ]
  },
  {
   "cell_type": "markdown",
   "id": "3896dd82",
   "metadata": {},
   "source": [
    "Testando Operações Variáveis:"
   ]
  },
  {
   "cell_type": "code",
   "execution_count": 21,
   "id": "34d1c81d",
   "metadata": {},
   "outputs": [
    {
     "name": "stdout",
     "output_type": "stream",
     "text": [
      "1500\n"
     ]
    }
   ],
   "source": [
    "qnt_vendas = 1500\n",
    "\n",
    "print(qnt_vendas)"
   ]
  },
  {
   "cell_type": "code",
   "execution_count": 22,
   "id": "7c38bc17",
   "metadata": {},
   "outputs": [
    {
     "name": "stdout",
     "output_type": "stream",
     "text": [
      "1500\n"
     ]
    }
   ],
   "source": [
    "print(qnt_vendas)"
   ]
  },
  {
   "cell_type": "code",
   "execution_count": 23,
   "id": "ff63b63c",
   "metadata": {
    "scrolled": true
   },
   "outputs": [
    {
     "name": "stdout",
     "output_type": "stream",
     "text": [
      "Davi Vidal\n",
      "17\n"
     ]
    }
   ],
   "source": [
    "age = 17\n",
    "name = \"Davi Vidal\"\n",
    "\n",
    "print(name)\n",
    "print(age)"
   ]
  },
  {
   "cell_type": "markdown",
   "id": "5d4403f8",
   "metadata": {},
   "source": [
    "Testando Operações Input:"
   ]
  },
  {
   "cell_type": "code",
   "execution_count": 37,
   "id": "7390f0d5",
   "metadata": {},
   "outputs": [
    {
     "name": "stdout",
     "output_type": "stream",
     "text": [
      "Qual é o seu nome?Davi\n"
     ]
    },
    {
     "data": {
      "text/plain": [
       "'Davi'"
      ]
     },
     "execution_count": 37,
     "metadata": {},
     "output_type": "execute_result"
    }
   ],
   "source": [
    "input(\"Qual é o seu nome?\")\n"
   ]
  },
  {
   "cell_type": "code",
   "execution_count": 38,
   "id": "bdd4c53f",
   "metadata": {},
   "outputs": [
    {
     "name": "stdout",
     "output_type": "stream",
     "text": [
      "Qual é o seu nome?Davi\n",
      "Davi\n"
     ]
    }
   ],
   "source": [
    "nome = input(\"Qual é o seu nome?\")\n",
    "\n",
    "print(nome)"
   ]
  },
  {
   "cell_type": "code",
   "execution_count": 41,
   "id": "16df93b3",
   "metadata": {},
   "outputs": [
    {
     "name": "stdout",
     "output_type": "stream",
     "text": [
      "Qual é o seu nome?Davi\n",
      "Qual é o seu sobrenome?Vidal\n",
      "Davi Vidal\n"
     ]
    }
   ],
   "source": [
    "nome = input(\"Qual é o seu nome?\")\n",
    "sobrenome = input(\"Qual é o seu sobrenome?\")\n",
    "\n",
    "print(nome + ' ' + sobrenome)"
   ]
  },
  {
   "cell_type": "code",
   "execution_count": null,
   "id": "194031cd",
   "metadata": {},
   "outputs": [],
   "source": []
  }
 ],
 "metadata": {
  "kernelspec": {
   "display_name": "Python 3 (ipykernel)",
   "language": "python",
   "name": "python3"
  },
  "language_info": {
   "codemirror_mode": {
    "name": "ipython",
    "version": 3
   },
   "file_extension": ".py",
   "mimetype": "text/x-python",
   "name": "python",
   "nbconvert_exporter": "python",
   "pygments_lexer": "ipython3",
   "version": "3.10.9"
  }
 },
 "nbformat": 4,
 "nbformat_minor": 5
}
